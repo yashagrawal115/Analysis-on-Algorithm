{
 "cells": [
  {
   "cell_type": "markdown",
   "metadata": {
    "colab_type": "text",
    "id": "vQyk40L9_xxZ"
   },
   "source": [
    "#Validation of Statement: \n",
    "##**Hight Bias Algorithm will have Low variance or not ?**"
   ]
  },
  {
   "cell_type": "code",
   "execution_count": 67,
   "metadata": {
    "colab": {
     "base_uri": "https://localhost:8080/",
     "height": 34
    },
    "colab_type": "code",
    "executionInfo": {
     "elapsed": 1239,
     "status": "ok",
     "timestamp": 1573664312723,
     "user": {
      "displayName": "MBA COURSE",
      "photoUrl": "",
      "userId": "16687981285155509429"
     },
     "user_tz": -330
    },
    "id": "ZMTyB-wY6kt-",
    "outputId": "23c13f11-70d8-4480-81e5-2efad1994582"
   },
   "outputs": [
    {
     "name": "stdout",
     "output_type": "stream",
     "text": [
      "Using matplotlib backend: agg\n"
     ]
    }
   ],
   "source": [
    "import numpy as np \n",
    "import pandas as pd\n",
    "import matplotlib.pyplot as plt\n",
    "import seaborn as sns\n",
    "from matplotlib.pylab import rcParams\n",
    "from sklearn.datasets import make_regression\n",
    "from sklearn.metrics import r2_score\n",
    "from sklearn.metrics import mean_squared_error \n",
    "from sklearn.model_selection import train_test_split\n",
    "from sklearn.linear_model import LinearRegression\n",
    "from sklearn.svm import SVR\n",
    "from sklearn.linear_model import Ridge\n",
    "from sklearn.linear_model import Lasso \n",
    "%matplotlib"
   ]
  },
  {
   "cell_type": "code",
   "execution_count": 0,
   "metadata": {
    "colab": {},
    "colab_type": "code",
    "id": "wpKB8Eq-8adq"
   },
   "outputs": [],
   "source": [
    "X = np.linspace(1,100,)\n",
    "y = np.cos(X)*np.log(X)"
   ]
  },
  {
   "cell_type": "code",
   "execution_count": 69,
   "metadata": {
    "colab": {
     "base_uri": "https://localhost:8080/",
     "height": 34
    },
    "colab_type": "code",
    "executionInfo": {
     "elapsed": 1144,
     "status": "ok",
     "timestamp": 1573664313315,
     "user": {
      "displayName": "MBA COURSE",
      "photoUrl": "",
      "userId": "16687981285155509429"
     },
     "user_tz": -330
    },
    "id": "-yHJLgkwS6Rq",
    "outputId": "881e5e88-7483-45f2-bb71-fe21f53f47c6"
   },
   "outputs": [
    {
     "name": "stdout",
     "output_type": "stream",
     "text": [
      "(50,) (50,)\n"
     ]
    }
   ],
   "source": [
    "print(X.shape, y.shape)"
   ]
  },
  {
   "cell_type": "code",
   "execution_count": 0,
   "metadata": {
    "colab": {},
    "colab_type": "code",
    "id": "2zfR73Wno6xf"
   },
   "outputs": [],
   "source": [
    "X = pd.DataFrame(X)\n",
    "y = pd.DataFrame(y)"
   ]
  },
  {
   "cell_type": "code",
   "execution_count": 0,
   "metadata": {
    "colab": {},
    "colab_type": "code",
    "id": "dBHZfKfOpIC8"
   },
   "outputs": [],
   "source": [
    "X_train, X_test, y_train, y_test = train_test_split(X,y, test_size =0.3, random_state = 115)"
   ]
  },
  {
   "cell_type": "code",
   "execution_count": 0,
   "metadata": {
    "colab": {},
    "colab_type": "code",
    "id": "ZxSNeOJYS6ur"
   },
   "outputs": [],
   "source": [
    "LR = LinearRegression()\n",
    "S_v_r = SVR()\n",
    "Rid = Ridge()\n",
    "Las = Lasso()"
   ]
  },
  {
   "cell_type": "code",
   "execution_count": 73,
   "metadata": {
    "colab": {
     "base_uri": "https://localhost:8080/",
     "height": 34
    },
    "colab_type": "code",
    "executionInfo": {
     "elapsed": 871,
     "status": "ok",
     "timestamp": 1573664314920,
     "user": {
      "displayName": "MBA COURSE",
      "photoUrl": "",
      "userId": "16687981285155509429"
     },
     "user_tz": -330
    },
    "id": "oQVkE7XSreo6",
    "outputId": "38e05067-f4d6-4153-be76-3043d441f81b"
   },
   "outputs": [
    {
     "data": {
      "text/plain": [
       "(35, 1)"
      ]
     },
     "execution_count": 73,
     "metadata": {
      "tags": []
     },
     "output_type": "execute_result"
    }
   ],
   "source": [
    "y_train.shape"
   ]
  },
  {
   "cell_type": "code",
   "execution_count": 76,
   "metadata": {
    "colab": {
     "base_uri": "https://localhost:8080/",
     "height": 34
    },
    "colab_type": "code",
    "executionInfo": {
     "elapsed": 733,
     "status": "ok",
     "timestamp": 1573664387630,
     "user": {
      "displayName": "MBA COURSE",
      "photoUrl": "",
      "userId": "16687981285155509429"
     },
     "user_tz": -330
    },
    "id": "gfOWKYzsRE7d",
    "outputId": "24972056-1c3a-4b40-8641-c7af14db2dad"
   },
   "outputs": [
    {
     "name": "stdout",
     "output_type": "stream",
     "text": [
      "-0.0016018523913983174 -0.0016018523913983174\n"
     ]
    }
   ],
   "source": [
    "LR.fit(X_train, y_train)\n",
    "LR_pred = LR.predict(X_test)\n",
    "Score = LR.score(X_test,y_test)\n",
    "R_2  = r2_score(y_test, LR_pred)\n",
    "print(Score, R_2)"
   ]
  },
  {
   "cell_type": "code",
   "execution_count": 78,
   "metadata": {
    "colab": {
     "base_uri": "https://localhost:8080/",
     "height": 234
    },
    "colab_type": "code",
    "executionInfo": {
     "elapsed": 824,
     "status": "error",
     "timestamp": 1573664489793,
     "user": {
      "displayName": "MBA COURSE",
      "photoUrl": "",
      "userId": "16687981285155509429"
     },
     "user_tz": -330
    },
    "id": "TydVYvoPtQ6O",
    "outputId": "97114a4b-13d3-4a55-917a-20a755f09439"
   },
   "outputs": [
    {
     "ename": "TypeError",
     "evalue": "ignored",
     "output_type": "error",
     "traceback": [
      "\u001b[0;31m---------------------------------------------------------------------------\u001b[0m",
      "\u001b[0;31mTypeError\u001b[0m                                 Traceback (most recent call last)",
      "\u001b[0;32m<ipython-input-78-48d6f1a2b4f2>\u001b[0m in \u001b[0;36m<module>\u001b[0;34m()\u001b[0m\n\u001b[1;32m      1\u001b[0m \u001b[0mSVR\u001b[0m\u001b[0;34m(\u001b[0m\u001b[0mX_train\u001b[0m\u001b[0;34m,\u001b[0m \u001b[0my_train\u001b[0m\u001b[0;34m)\u001b[0m\u001b[0;34m\u001b[0m\u001b[0;34m\u001b[0m\u001b[0m\n\u001b[0;32m----> 2\u001b[0;31m \u001b[0mSVR_pred\u001b[0m \u001b[0;34m=\u001b[0m \u001b[0mSVR\u001b[0m\u001b[0;34m.\u001b[0m\u001b[0mpredict\u001b[0m\u001b[0;34m(\u001b[0m\u001b[0mX_test\u001b[0m\u001b[0;34m)\u001b[0m\u001b[0;34m\u001b[0m\u001b[0;34m\u001b[0m\u001b[0m\n\u001b[0m\u001b[1;32m      3\u001b[0m \u001b[0mScore_SVR\u001b[0m \u001b[0;34m=\u001b[0m \u001b[0mSVR\u001b[0m\u001b[0;34m.\u001b[0m\u001b[0mscore\u001b[0m\u001b[0;34m(\u001b[0m\u001b[0mX_test\u001b[0m\u001b[0;34m,\u001b[0m\u001b[0my_test\u001b[0m\u001b[0;34m)\u001b[0m\u001b[0;34m\u001b[0m\u001b[0;34m\u001b[0m\u001b[0m\n\u001b[1;32m      4\u001b[0m \u001b[0mR_2_SVR\u001b[0m  \u001b[0;34m=\u001b[0m \u001b[0mr2_score\u001b[0m\u001b[0;34m(\u001b[0m\u001b[0my_test\u001b[0m\u001b[0;34m,\u001b[0m \u001b[0mLR_pred\u001b[0m\u001b[0;34m)\u001b[0m\u001b[0;34m\u001b[0m\u001b[0;34m\u001b[0m\u001b[0m\n\u001b[1;32m      5\u001b[0m \u001b[0mprint\u001b[0m\u001b[0;34m(\u001b[0m\u001b[0mScore_SVR\u001b[0m\u001b[0;34m,\u001b[0m \u001b[0mR_2_SVR\u001b[0m\u001b[0;34m)\u001b[0m\u001b[0;34m\u001b[0m\u001b[0;34m\u001b[0m\u001b[0m\n",
      "\u001b[0;31mTypeError\u001b[0m: predict() missing 1 required positional argument: 'X'"
     ]
    }
   ],
   "source": [
    "SVR(X_train, y_train)\n",
    "SVR_pred = SVR.predict(X_test)\n",
    "Score_SVR = SVR.score(X_test,y_test)\n",
    "R_2_SVR  = r2_score(y_test, LR_pred)\n",
    "print(Score_SVR, R_2_SVR)"
   ]
  },
  {
   "cell_type": "code",
   "execution_count": 0,
   "metadata": {
    "colab": {
     "base_uri": "https://localhost:8080/",
     "height": 98
    },
    "colab_type": "code",
    "executionInfo": {
     "elapsed": 4074,
     "status": "ok",
     "timestamp": 1573529122440,
     "user": {
      "displayName": "MBA COURSE",
      "photoUrl": "",
      "userId": "16687981285155509429"
     },
     "user_tz": -330
    },
    "id": "U7ArVXaMTQbs",
    "outputId": "260e6b20-fbe5-4479-9936-746eb5a1f31e"
   },
   "outputs": [
    {
     "data": {
      "text/plain": [
       "array([  48.39589201,   99.19616932,  -38.39391854,   46.15715864,\n",
       "        232.14010224,   33.14192079,  -83.57306861,   54.12432263,\n",
       "       -132.11032081,  -27.66377704,   63.73522422,  -40.81015846,\n",
       "         89.89883874,  114.98901043,  -85.58141314,  -10.2905004 ,\n",
       "        -26.86819995,   18.0485725 ,   -5.44682459,   -7.42694319])"
      ]
     },
     "execution_count": 6,
     "metadata": {
      "tags": []
     },
     "output_type": "execute_result"
    }
   ],
   "source": [
    "y[:20]"
   ]
  },
  {
   "cell_type": "code",
   "execution_count": 0,
   "metadata": {
    "colab": {
     "base_uri": "https://localhost:8080/",
     "height": 33
    },
    "colab_type": "code",
    "executionInfo": {
     "elapsed": 4054,
     "status": "ok",
     "timestamp": 1573529122441,
     "user": {
      "displayName": "MBA COURSE",
      "photoUrl": "",
      "userId": "16687981285155509429"
     },
     "user_tz": -330
    },
    "id": "h6xFGhR9RLU2",
    "outputId": "5874e5c4-3463-4d15-9f1d-6b7a96644cd4"
   },
   "outputs": [
    {
     "name": "stdout",
     "output_type": "stream",
     "text": [
      "(100,)\n"
     ]
    }
   ],
   "source": [
    "print(y.shape)"
   ]
  },
  {
   "cell_type": "code",
   "execution_count": 0,
   "metadata": {
    "colab": {},
    "colab_type": "code",
    "id": "FW5E4RchT6Pc"
   },
   "outputs": [],
   "source": [
    "Custom_dataset_data = pd.DataFrame(X, columns=('feature_1','feature_2','feature_3','feature_4','feature_5'))\n",
    "Custom_dataset_target = pd.DataFrame(y)"
   ]
  },
  {
   "cell_type": "code",
   "execution_count": 0,
   "metadata": {
    "colab": {
     "base_uri": "https://localhost:8080/",
     "height": 191
    },
    "colab_type": "code",
    "executionInfo": {
     "elapsed": 4018,
     "status": "ok",
     "timestamp": 1573529122443,
     "user": {
      "displayName": "MBA COURSE",
      "photoUrl": "",
      "userId": "16687981285155509429"
     },
     "user_tz": -330
    },
    "id": "aQMWcwrcU7zr",
    "outputId": "ae5a9ff8-b69e-4b46-90f3-d51d1aac2839"
   },
   "outputs": [
    {
     "data": {
      "text/html": [
       "<div>\n",
       "<style scoped>\n",
       "    .dataframe tbody tr th:only-of-type {\n",
       "        vertical-align: middle;\n",
       "    }\n",
       "\n",
       "    .dataframe tbody tr th {\n",
       "        vertical-align: top;\n",
       "    }\n",
       "\n",
       "    .dataframe thead th {\n",
       "        text-align: right;\n",
       "    }\n",
       "</style>\n",
       "<table border=\"1\" class=\"dataframe\">\n",
       "  <thead>\n",
       "    <tr style=\"text-align: right;\">\n",
       "      <th></th>\n",
       "      <th>feature_1</th>\n",
       "      <th>feature_2</th>\n",
       "      <th>feature_3</th>\n",
       "      <th>feature_4</th>\n",
       "      <th>feature_5</th>\n",
       "    </tr>\n",
       "  </thead>\n",
       "  <tbody>\n",
       "    <tr>\n",
       "      <th>0</th>\n",
       "      <td>1.136660</td>\n",
       "      <td>-0.850498</td>\n",
       "      <td>0.555313</td>\n",
       "      <td>0.108077</td>\n",
       "      <td>-0.172211</td>\n",
       "    </tr>\n",
       "    <tr>\n",
       "      <th>1</th>\n",
       "      <td>1.046217</td>\n",
       "      <td>-0.081864</td>\n",
       "      <td>1.330000</td>\n",
       "      <td>0.435318</td>\n",
       "      <td>1.033889</td>\n",
       "    </tr>\n",
       "    <tr>\n",
       "      <th>2</th>\n",
       "      <td>-0.012073</td>\n",
       "      <td>0.058528</td>\n",
       "      <td>1.173508</td>\n",
       "      <td>-0.073204</td>\n",
       "      <td>-1.544732</td>\n",
       "    </tr>\n",
       "    <tr>\n",
       "      <th>3</th>\n",
       "      <td>-0.155593</td>\n",
       "      <td>0.200585</td>\n",
       "      <td>-0.201059</td>\n",
       "      <td>-0.008508</td>\n",
       "      <td>2.117373</td>\n",
       "    </tr>\n",
       "    <tr>\n",
       "      <th>4</th>\n",
       "      <td>2.104586</td>\n",
       "      <td>1.812127</td>\n",
       "      <td>2.075170</td>\n",
       "      <td>1.302638</td>\n",
       "      <td>0.943761</td>\n",
       "    </tr>\n",
       "  </tbody>\n",
       "</table>\n",
       "</div>"
      ],
      "text/plain": [
       "   feature_1  feature_2  feature_3  feature_4  feature_5\n",
       "0   1.136660  -0.850498   0.555313   0.108077  -0.172211\n",
       "1   1.046217  -0.081864   1.330000   0.435318   1.033889\n",
       "2  -0.012073   0.058528   1.173508  -0.073204  -1.544732\n",
       "3  -0.155593   0.200585  -0.201059  -0.008508   2.117373\n",
       "4   2.104586   1.812127   2.075170   1.302638   0.943761"
      ]
     },
     "execution_count": 9,
     "metadata": {
      "tags": []
     },
     "output_type": "execute_result"
    }
   ],
   "source": [
    "Custom_dataset_data.head()"
   ]
  },
  {
   "cell_type": "code",
   "execution_count": 0,
   "metadata": {
    "colab": {
     "base_uri": "https://localhost:8080/",
     "height": 191
    },
    "colab_type": "code",
    "executionInfo": {
     "elapsed": 3998,
     "status": "ok",
     "timestamp": 1573529122444,
     "user": {
      "displayName": "MBA COURSE",
      "photoUrl": "",
      "userId": "16687981285155509429"
     },
     "user_tz": -330
    },
    "id": "Bi5k3FfgU7yd",
    "outputId": "38d275f5-6cad-4b08-fe48-4ab887828ee8"
   },
   "outputs": [
    {
     "data": {
      "text/html": [
       "<div>\n",
       "<style scoped>\n",
       "    .dataframe tbody tr th:only-of-type {\n",
       "        vertical-align: middle;\n",
       "    }\n",
       "\n",
       "    .dataframe tbody tr th {\n",
       "        vertical-align: top;\n",
       "    }\n",
       "\n",
       "    .dataframe thead th {\n",
       "        text-align: right;\n",
       "    }\n",
       "</style>\n",
       "<table border=\"1\" class=\"dataframe\">\n",
       "  <thead>\n",
       "    <tr style=\"text-align: right;\">\n",
       "      <th></th>\n",
       "      <th>0</th>\n",
       "    </tr>\n",
       "  </thead>\n",
       "  <tbody>\n",
       "    <tr>\n",
       "      <th>0</th>\n",
       "      <td>48.395892</td>\n",
       "    </tr>\n",
       "    <tr>\n",
       "      <th>1</th>\n",
       "      <td>99.196169</td>\n",
       "    </tr>\n",
       "    <tr>\n",
       "      <th>2</th>\n",
       "      <td>-38.393919</td>\n",
       "    </tr>\n",
       "    <tr>\n",
       "      <th>3</th>\n",
       "      <td>46.157159</td>\n",
       "    </tr>\n",
       "    <tr>\n",
       "      <th>4</th>\n",
       "      <td>232.140102</td>\n",
       "    </tr>\n",
       "  </tbody>\n",
       "</table>\n",
       "</div>"
      ],
      "text/plain": [
       "            0\n",
       "0   48.395892\n",
       "1   99.196169\n",
       "2  -38.393919\n",
       "3   46.157159\n",
       "4  232.140102"
      ]
     },
     "execution_count": 10,
     "metadata": {
      "tags": []
     },
     "output_type": "execute_result"
    }
   ],
   "source": [
    "Custom_dataset_target.head()"
   ]
  },
  {
   "cell_type": "code",
   "execution_count": 0,
   "metadata": {
    "colab": {
     "base_uri": "https://localhost:8080/",
     "height": 277
    },
    "colab_type": "code",
    "executionInfo": {
     "elapsed": 3978,
     "status": "ok",
     "timestamp": 1573529122445,
     "user": {
      "displayName": "MBA COURSE",
      "photoUrl": "",
      "userId": "16687981285155509429"
     },
     "user_tz": -330
    },
    "id": "gN9pCfHeDqBB",
    "outputId": "ff0ef62e-9a17-4940-ec2b-88f7eb375a99"
   },
   "outputs": [
    {
     "data": {
      "text/html": [
       "<div>\n",
       "<style scoped>\n",
       "    .dataframe tbody tr th:only-of-type {\n",
       "        vertical-align: middle;\n",
       "    }\n",
       "\n",
       "    .dataframe tbody tr th {\n",
       "        vertical-align: top;\n",
       "    }\n",
       "\n",
       "    .dataframe thead th {\n",
       "        text-align: right;\n",
       "    }\n",
       "</style>\n",
       "<table border=\"1\" class=\"dataframe\">\n",
       "  <thead>\n",
       "    <tr style=\"text-align: right;\">\n",
       "      <th></th>\n",
       "      <th>feature_1</th>\n",
       "      <th>feature_2</th>\n",
       "      <th>feature_3</th>\n",
       "      <th>feature_4</th>\n",
       "      <th>feature_5</th>\n",
       "    </tr>\n",
       "  </thead>\n",
       "  <tbody>\n",
       "    <tr>\n",
       "      <th>count</th>\n",
       "      <td>100.000000</td>\n",
       "      <td>100.000000</td>\n",
       "      <td>100.000000</td>\n",
       "      <td>100.000000</td>\n",
       "      <td>100.000000</td>\n",
       "    </tr>\n",
       "    <tr>\n",
       "      <th>mean</th>\n",
       "      <td>0.040525</td>\n",
       "      <td>0.008118</td>\n",
       "      <td>0.060786</td>\n",
       "      <td>-0.009251</td>\n",
       "      <td>0.075021</td>\n",
       "    </tr>\n",
       "    <tr>\n",
       "      <th>std</th>\n",
       "      <td>0.890043</td>\n",
       "      <td>0.986331</td>\n",
       "      <td>0.997292</td>\n",
       "      <td>1.038574</td>\n",
       "      <td>1.024570</td>\n",
       "    </tr>\n",
       "    <tr>\n",
       "      <th>min</th>\n",
       "      <td>-1.914265</td>\n",
       "      <td>-2.683246</td>\n",
       "      <td>-2.618014</td>\n",
       "      <td>-1.945671</td>\n",
       "      <td>-2.126776</td>\n",
       "    </tr>\n",
       "    <tr>\n",
       "      <th>25%</th>\n",
       "      <td>-0.674478</td>\n",
       "      <td>-0.669382</td>\n",
       "      <td>-0.635059</td>\n",
       "      <td>-0.843704</td>\n",
       "      <td>-0.725012</td>\n",
       "    </tr>\n",
       "    <tr>\n",
       "      <th>50%</th>\n",
       "      <td>0.056839</td>\n",
       "      <td>-0.091408</td>\n",
       "      <td>0.113695</td>\n",
       "      <td>0.001504</td>\n",
       "      <td>0.116046</td>\n",
       "    </tr>\n",
       "    <tr>\n",
       "      <th>75%</th>\n",
       "      <td>0.654824</td>\n",
       "      <td>0.744190</td>\n",
       "      <td>0.637825</td>\n",
       "      <td>0.732050</td>\n",
       "      <td>0.791307</td>\n",
       "    </tr>\n",
       "    <tr>\n",
       "      <th>max</th>\n",
       "      <td>2.104586</td>\n",
       "      <td>2.709177</td>\n",
       "      <td>2.075170</td>\n",
       "      <td>2.520762</td>\n",
       "      <td>2.117373</td>\n",
       "    </tr>\n",
       "  </tbody>\n",
       "</table>\n",
       "</div>"
      ],
      "text/plain": [
       "        feature_1   feature_2   feature_3   feature_4   feature_5\n",
       "count  100.000000  100.000000  100.000000  100.000000  100.000000\n",
       "mean     0.040525    0.008118    0.060786   -0.009251    0.075021\n",
       "std      0.890043    0.986331    0.997292    1.038574    1.024570\n",
       "min     -1.914265   -2.683246   -2.618014   -1.945671   -2.126776\n",
       "25%     -0.674478   -0.669382   -0.635059   -0.843704   -0.725012\n",
       "50%      0.056839   -0.091408    0.113695    0.001504    0.116046\n",
       "75%      0.654824    0.744190    0.637825    0.732050    0.791307\n",
       "max      2.104586    2.709177    2.075170    2.520762    2.117373"
      ]
     },
     "execution_count": 11,
     "metadata": {
      "tags": []
     },
     "output_type": "execute_result"
    }
   ],
   "source": [
    "Custom_dataset_data.describe()"
   ]
  },
  {
   "cell_type": "code",
   "execution_count": 0,
   "metadata": {
    "colab": {},
    "colab_type": "code",
    "id": "p3EP51_cE5yO"
   },
   "outputs": [],
   "source": [
    "# Custom_dataset_data[27:32] =  2\n",
    "# Custom_dataset_data[27:32]"
   ]
  },
  {
   "cell_type": "code",
   "execution_count": 0,
   "metadata": {
    "colab": {},
    "colab_type": "code",
    "id": "Kpu9JdbZU7wz"
   },
   "outputs": [],
   "source": [
    "Custom_dataset_target = Custom_dataset_target.rename(columns={0 : 'Target'})"
   ]
  },
  {
   "cell_type": "code",
   "execution_count": 0,
   "metadata": {
    "colab": {
     "base_uri": "https://localhost:8080/",
     "height": 191
    },
    "colab_type": "code",
    "executionInfo": {
     "elapsed": 3915,
     "status": "ok",
     "timestamp": 1573529122448,
     "user": {
      "displayName": "MBA COURSE",
      "photoUrl": "",
      "userId": "16687981285155509429"
     },
     "user_tz": -330
    },
    "id": "3F6XUXA6ZeeM",
    "outputId": "22900b78-8910-4527-8388-890a9342b696"
   },
   "outputs": [
    {
     "data": {
      "text/html": [
       "<div>\n",
       "<style scoped>\n",
       "    .dataframe tbody tr th:only-of-type {\n",
       "        vertical-align: middle;\n",
       "    }\n",
       "\n",
       "    .dataframe tbody tr th {\n",
       "        vertical-align: top;\n",
       "    }\n",
       "\n",
       "    .dataframe thead th {\n",
       "        text-align: right;\n",
       "    }\n",
       "</style>\n",
       "<table border=\"1\" class=\"dataframe\">\n",
       "  <thead>\n",
       "    <tr style=\"text-align: right;\">\n",
       "      <th></th>\n",
       "      <th>Target</th>\n",
       "    </tr>\n",
       "  </thead>\n",
       "  <tbody>\n",
       "    <tr>\n",
       "      <th>0</th>\n",
       "      <td>48.395892</td>\n",
       "    </tr>\n",
       "    <tr>\n",
       "      <th>1</th>\n",
       "      <td>99.196169</td>\n",
       "    </tr>\n",
       "    <tr>\n",
       "      <th>2</th>\n",
       "      <td>-38.393919</td>\n",
       "    </tr>\n",
       "    <tr>\n",
       "      <th>3</th>\n",
       "      <td>46.157159</td>\n",
       "    </tr>\n",
       "    <tr>\n",
       "      <th>4</th>\n",
       "      <td>232.140102</td>\n",
       "    </tr>\n",
       "  </tbody>\n",
       "</table>\n",
       "</div>"
      ],
      "text/plain": [
       "       Target\n",
       "0   48.395892\n",
       "1   99.196169\n",
       "2  -38.393919\n",
       "3   46.157159\n",
       "4  232.140102"
      ]
     },
     "execution_count": 14,
     "metadata": {
      "tags": []
     },
     "output_type": "execute_result"
    }
   ],
   "source": [
    "Custom_dataset_target.head()"
   ]
  },
  {
   "cell_type": "code",
   "execution_count": 0,
   "metadata": {
    "colab": {},
    "colab_type": "code",
    "id": "cMPpqfDUU7tg"
   },
   "outputs": [],
   "source": [
    "Comp_Dataset = pd.concat([Custom_dataset_data,Custom_dataset_target], axis = 1)"
   ]
  },
  {
   "cell_type": "code",
   "execution_count": 0,
   "metadata": {
    "colab": {
     "base_uri": "https://localhost:8080/",
     "height": 191
    },
    "colab_type": "code",
    "executionInfo": {
     "elapsed": 3878,
     "status": "ok",
     "timestamp": 1573529122451,
     "user": {
      "displayName": "MBA COURSE",
      "photoUrl": "",
      "userId": "16687981285155509429"
     },
     "user_tz": -330
    },
    "id": "PoXskYDbSpA2",
    "outputId": "59c5bd48-fce8-4a90-a648-fb525075875e"
   },
   "outputs": [
    {
     "data": {
      "text/html": [
       "<div>\n",
       "<style scoped>\n",
       "    .dataframe tbody tr th:only-of-type {\n",
       "        vertical-align: middle;\n",
       "    }\n",
       "\n",
       "    .dataframe tbody tr th {\n",
       "        vertical-align: top;\n",
       "    }\n",
       "\n",
       "    .dataframe thead th {\n",
       "        text-align: right;\n",
       "    }\n",
       "</style>\n",
       "<table border=\"1\" class=\"dataframe\">\n",
       "  <thead>\n",
       "    <tr style=\"text-align: right;\">\n",
       "      <th></th>\n",
       "      <th>feature_1</th>\n",
       "      <th>feature_2</th>\n",
       "      <th>feature_3</th>\n",
       "      <th>feature_4</th>\n",
       "      <th>feature_5</th>\n",
       "      <th>Target</th>\n",
       "    </tr>\n",
       "  </thead>\n",
       "  <tbody>\n",
       "    <tr>\n",
       "      <th>0</th>\n",
       "      <td>1.136660</td>\n",
       "      <td>-0.850498</td>\n",
       "      <td>0.555313</td>\n",
       "      <td>0.108077</td>\n",
       "      <td>-0.172211</td>\n",
       "      <td>48.395892</td>\n",
       "    </tr>\n",
       "    <tr>\n",
       "      <th>1</th>\n",
       "      <td>1.046217</td>\n",
       "      <td>-0.081864</td>\n",
       "      <td>1.330000</td>\n",
       "      <td>0.435318</td>\n",
       "      <td>1.033889</td>\n",
       "      <td>99.196169</td>\n",
       "    </tr>\n",
       "    <tr>\n",
       "      <th>2</th>\n",
       "      <td>-0.012073</td>\n",
       "      <td>0.058528</td>\n",
       "      <td>1.173508</td>\n",
       "      <td>-0.073204</td>\n",
       "      <td>-1.544732</td>\n",
       "      <td>-38.393919</td>\n",
       "    </tr>\n",
       "    <tr>\n",
       "      <th>3</th>\n",
       "      <td>-0.155593</td>\n",
       "      <td>0.200585</td>\n",
       "      <td>-0.201059</td>\n",
       "      <td>-0.008508</td>\n",
       "      <td>2.117373</td>\n",
       "      <td>46.157159</td>\n",
       "    </tr>\n",
       "    <tr>\n",
       "      <th>4</th>\n",
       "      <td>2.104586</td>\n",
       "      <td>1.812127</td>\n",
       "      <td>2.075170</td>\n",
       "      <td>1.302638</td>\n",
       "      <td>0.943761</td>\n",
       "      <td>232.140102</td>\n",
       "    </tr>\n",
       "  </tbody>\n",
       "</table>\n",
       "</div>"
      ],
      "text/plain": [
       "   feature_1  feature_2  feature_3  feature_4  feature_5      Target\n",
       "0   1.136660  -0.850498   0.555313   0.108077  -0.172211   48.395892\n",
       "1   1.046217  -0.081864   1.330000   0.435318   1.033889   99.196169\n",
       "2  -0.012073   0.058528   1.173508  -0.073204  -1.544732  -38.393919\n",
       "3  -0.155593   0.200585  -0.201059  -0.008508   2.117373   46.157159\n",
       "4   2.104586   1.812127   2.075170   1.302638   0.943761  232.140102"
      ]
     },
     "execution_count": 16,
     "metadata": {
      "tags": []
     },
     "output_type": "execute_result"
    }
   ],
   "source": [
    "Comp_Dataset.head()"
   ]
  },
  {
   "cell_type": "code",
   "execution_count": 0,
   "metadata": {
    "colab": {},
    "colab_type": "code",
    "id": "8CWP5m-WcNNs"
   },
   "outputs": [],
   "source": [
    "from sklearn.model_selection import train_test_split\n",
    "X_train, X_test, y_train, y_test  = train_test_split(Custom_dataset_data,Custom_dataset_target, test_size = 0.3,random_state = 115)\n"
   ]
  },
  {
   "cell_type": "code",
   "execution_count": 0,
   "metadata": {
    "colab": {
     "base_uri": "https://localhost:8080/",
     "height": 50
    },
    "colab_type": "code",
    "executionInfo": {
     "elapsed": 3842,
     "status": "ok",
     "timestamp": 1573529122454,
     "user": {
      "displayName": "MBA COURSE",
      "photoUrl": "",
      "userId": "16687981285155509429"
     },
     "user_tz": -330
    },
    "id": "ZnvGS4uFbc3v",
    "outputId": "4c7db78f-74ad-45e2-9f8c-3028c2ccdf85"
   },
   "outputs": [
    {
     "name": "stdout",
     "output_type": "stream",
     "text": [
      "CPU times: user 2 µs, sys: 0 ns, total: 2 µs\n",
      "Wall time: 4.29 µs\n"
     ]
    }
   ],
   "source": [
    "%time\n",
    "from sklearn.linear_model import LinearRegression\n",
    "LR = LinearRegression()\n",
    "LR.fit(X_train, y_train)\n",
    "Prediction  = LR.predict(X_test)\n",
    "Score = LR.score(X_test,y_test)\n",
    "R_2  = r2_score(y_test,Prediction)\n"
   ]
  },
  {
   "cell_type": "code",
   "execution_count": 0,
   "metadata": {
    "colab": {
     "base_uri": "https://localhost:8080/",
     "height": 33
    },
    "colab_type": "code",
    "executionInfo": {
     "elapsed": 3821,
     "status": "ok",
     "timestamp": 1573529122455,
     "user": {
      "displayName": "MBA COURSE",
      "photoUrl": "",
      "userId": "16687981285155509429"
     },
     "user_tz": -330
    },
    "id": "-K3IUBPablfp",
    "outputId": "8623c7be-6437-43e6-bf72-3279f614b73c"
   },
   "outputs": [
    {
     "name": "stdout",
     "output_type": "stream",
     "text": [
      "Score : 1 R_2 score : 1\n"
     ]
    }
   ],
   "source": [
    "print('Score : %d R_2 score : %d' %(Score,R_2))"
   ]
  },
  {
   "cell_type": "code",
   "execution_count": 0,
   "metadata": {
    "colab": {
     "base_uri": "https://localhost:8080/",
     "height": 33
    },
    "colab_type": "code",
    "executionInfo": {
     "elapsed": 3801,
     "status": "ok",
     "timestamp": 1573529122456,
     "user": {
      "displayName": "MBA COURSE",
      "photoUrl": "",
      "userId": "16687981285155509429"
     },
     "user_tz": -330
    },
    "id": "tNKi_4nWoJoV",
    "outputId": "1b59350d-66f0-4290-cf13-5e58bc8cb8e9"
   },
   "outputs": [
    {
     "name": "stdout",
     "output_type": "stream",
     "text": [
      "1.0\n"
     ]
    }
   ],
   "source": [
    "print(Score)"
   ]
  },
  {
   "cell_type": "code",
   "execution_count": 0,
   "metadata": {
    "colab": {
     "base_uri": "https://localhost:8080/",
     "height": 33
    },
    "colab_type": "code",
    "executionInfo": {
     "elapsed": 3782,
     "status": "ok",
     "timestamp": 1573529122457,
     "user": {
      "displayName": "MBA COURSE",
      "photoUrl": "",
      "userId": "16687981285155509429"
     },
     "user_tz": -330
    },
    "id": "FE9tS-pBGT6r",
    "outputId": "1ea557de-1150-4df0-bdad-683ecd44fc0f"
   },
   "outputs": [
    {
     "name": "stdout",
     "output_type": "stream",
     "text": [
      "1.0\n"
     ]
    }
   ],
   "source": [
    "print(R_2)"
   ]
  },
  {
   "cell_type": "code",
   "execution_count": 0,
   "metadata": {
    "colab": {
     "base_uri": "https://localhost:8080/",
     "height": 102
    },
    "colab_type": "code",
    "executionInfo": {
     "elapsed": 3759,
     "status": "ok",
     "timestamp": 1573529122458,
     "user": {
      "displayName": "MBA COURSE",
      "photoUrl": "",
      "userId": "16687981285155509429"
     },
     "user_tz": -330
    },
    "id": "iZpn7-zXe8X_",
    "outputId": "5af565ff-ff64-4ea9-c7f6-92c0cbac1878"
   },
   "outputs": [
    {
     "name": "stdout",
     "output_type": "stream",
     "text": [
      "CPU times: user 4 µs, sys: 1 µs, total: 5 µs\n",
      "Wall time: 9.3 µs\n"
     ]
    },
    {
     "name": "stderr",
     "output_type": "stream",
     "text": [
      "/usr/local/lib/python3.6/dist-packages/sklearn/utils/validation.py:724: DataConversionWarning: A column-vector y was passed when a 1d array was expected. Please change the shape of y to (n_samples, ), for example using ravel().\n",
      "  y = column_or_1d(y, warn=True)\n"
     ]
    }
   ],
   "source": [
    "%time\n",
    "from sklearn.svm import LinearSVR\n",
    "LSVR = LinearSVR()\n",
    "LSVR.fit(X_train,y_train)\n",
    "Prediction_LSVR = LSVR.predict(X_train)\n",
    "Score_LSVR = LSVR.score(X_test,y_test)\n",
    "R_2_LVSR  = r2_score(y_test,Prediction)"
   ]
  },
  {
   "cell_type": "code",
   "execution_count": 0,
   "metadata": {
    "colab": {
     "base_uri": "https://localhost:8080/",
     "height": 33
    },
    "colab_type": "code",
    "executionInfo": {
     "elapsed": 3733,
     "status": "ok",
     "timestamp": 1573529122459,
     "user": {
      "displayName": "MBA COURSE",
      "photoUrl": "",
      "userId": "16687981285155509429"
     },
     "user_tz": -330
    },
    "id": "xsxPxjALkagP",
    "outputId": "2006de98-3fc7-4bac-f762-534974be9253"
   },
   "outputs": [
    {
     "name": "stdout",
     "output_type": "stream",
     "text": [
      "Score : 0 R_2 score : 1\n"
     ]
    }
   ],
   "source": [
    "print('Score : %d R_2 score : %d' %(Score_LSVR,R_2_LVSR))"
   ]
  },
  {
   "cell_type": "code",
   "execution_count": 0,
   "metadata": {
    "colab": {
     "base_uri": "https://localhost:8080/",
     "height": 33
    },
    "colab_type": "code",
    "executionInfo": {
     "elapsed": 3703,
     "status": "ok",
     "timestamp": 1573529122460,
     "user": {
      "displayName": "MBA COURSE",
      "photoUrl": "",
      "userId": "16687981285155509429"
     },
     "user_tz": -330
    },
    "id": "WJsBk_SniJDD",
    "outputId": "5683dd39-58b6-4790-baf0-68713e95af7b"
   },
   "outputs": [
    {
     "name": "stdout",
     "output_type": "stream",
     "text": [
      "0.9365983791830381\n"
     ]
    }
   ],
   "source": [
    "print(Score_LSVR)"
   ]
  },
  {
   "cell_type": "code",
   "execution_count": 0,
   "metadata": {
    "colab": {
     "base_uri": "https://localhost:8080/",
     "height": 33
    },
    "colab_type": "code",
    "executionInfo": {
     "elapsed": 3683,
     "status": "ok",
     "timestamp": 1573529122461,
     "user": {
      "displayName": "MBA COURSE",
      "photoUrl": "",
      "userId": "16687981285155509429"
     },
     "user_tz": -330
    },
    "id": "TdqLeGvcGeE4",
    "outputId": "45f25af2-962a-4666-8e58-8b820118888b"
   },
   "outputs": [
    {
     "name": "stdout",
     "output_type": "stream",
     "text": [
      "1.0\n"
     ]
    }
   ],
   "source": [
    "print(R_2_LVSR)"
   ]
  },
  {
   "cell_type": "code",
   "execution_count": 0,
   "metadata": {
    "colab": {
     "base_uri": "https://localhost:8080/",
     "height": 102
    },
    "colab_type": "code",
    "executionInfo": {
     "elapsed": 3663,
     "status": "ok",
     "timestamp": 1573529122462,
     "user": {
      "displayName": "MBA COURSE",
      "photoUrl": "",
      "userId": "16687981285155509429"
     },
     "user_tz": -330
    },
    "id": "KhYnRwqtnwk_",
    "outputId": "72fe1486-ee6c-4b4b-808d-db87bf9376db"
   },
   "outputs": [
    {
     "name": "stdout",
     "output_type": "stream",
     "text": [
      "CPU times: user 3 µs, sys: 1 µs, total: 4 µs\n",
      "Wall time: 7.39 µs\n"
     ]
    },
    {
     "name": "stderr",
     "output_type": "stream",
     "text": [
      "/usr/local/lib/python3.6/dist-packages/sklearn/utils/validation.py:724: DataConversionWarning: A column-vector y was passed when a 1d array was expected. Please change the shape of y to (n_samples, ), for example using ravel().\n",
      "  y = column_or_1d(y, warn=True)\n"
     ]
    }
   ],
   "source": [
    "%time\n",
    "from sklearn.svm import SVR\n",
    "SVReg = SVR(kernel='linear')\n",
    "SVReg.fit(X_train, y_train)\n",
    "Prediction_SVR = SVReg.predict(X_test)\n",
    "Score_SVR = SVReg.score(X_test, y_test) \n",
    "R_2_SVR  = r2_score(y_test,Prediction)"
   ]
  },
  {
   "cell_type": "code",
   "execution_count": 0,
   "metadata": {
    "colab": {
     "base_uri": "https://localhost:8080/",
     "height": 33
    },
    "colab_type": "code",
    "executionInfo": {
     "elapsed": 3640,
     "status": "ok",
     "timestamp": 1573529122465,
     "user": {
      "displayName": "MBA COURSE",
      "photoUrl": "",
      "userId": "16687981285155509429"
     },
     "user_tz": -330
    },
    "id": "6fCaFy_GoZDw",
    "outputId": "b1f4dc31-dbf0-42c3-c868-170e5f650341"
   },
   "outputs": [
    {
     "name": "stdout",
     "output_type": "stream",
     "text": [
      "0.9361217618745872\n"
     ]
    }
   ],
   "source": [
    "print(Score_SVR)"
   ]
  },
  {
   "cell_type": "code",
   "execution_count": 0,
   "metadata": {
    "colab": {
     "base_uri": "https://localhost:8080/",
     "height": 33
    },
    "colab_type": "code",
    "executionInfo": {
     "elapsed": 3620,
     "status": "ok",
     "timestamp": 1573529122467,
     "user": {
      "displayName": "MBA COURSE",
      "photoUrl": "",
      "userId": "16687981285155509429"
     },
     "user_tz": -330
    },
    "id": "F_t5KY0GomTl",
    "outputId": "ca5b6055-f59f-4dd0-b26c-962e8128babc"
   },
   "outputs": [
    {
     "name": "stdout",
     "output_type": "stream",
     "text": [
      "1.0\n"
     ]
    }
   ],
   "source": [
    "print(R_2_SVR)"
   ]
  },
  {
   "cell_type": "markdown",
   "metadata": {
    "colab_type": "text",
    "id": "ml7zMVPQqBsN"
   },
   "source": [
    "### Comparison of the Scores and R2scores for each of the Algorithm \n",
    "\n",
    "---\n",
    "\n",
    "\n",
    "####        Score, R_2 - for Linear Regression:  \n",
    "####        Score = 1\n",
    "####        R_2 = 1\n",
    "\n",
    "---\n",
    "\n",
    "\n",
    "####        Score_SVR, R_2_SVR -  SVR with linear kernal  \n",
    "####        Score = 0.9361217618745872\n",
    "####        R_2 = 1     \n",
    "\n",
    "---\n",
    "\n",
    "\n",
    "####        Score_LSVR, R_2_LSVR - for LinearSVR\n",
    "####        Score = 0.9365983791830381\n",
    "####        R_2 = 1 \n",
    "\n",
    "\n",
    "\n",
    "---\n",
    "\n",
    "\n",
    "\n",
    "---\n",
    "\n"
   ]
  },
  {
   "cell_type": "markdown",
   "metadata": {
    "colab_type": "text",
    "id": "R7NGFrax1y8Q"
   },
   "source": [
    "# **Final Outcome:**\n",
    "## From this we can conclude that, **Linear Regression** perform better than LinearSVR and SVR with Linear kernal on linear data based on there performances score that we got."
   ]
  },
  {
   "cell_type": "code",
   "execution_count": 0,
   "metadata": {
    "colab": {
     "base_uri": "https://localhost:8080/",
     "height": 622
    },
    "colab_type": "code",
    "executionInfo": {
     "elapsed": 3600,
     "status": "ok",
     "timestamp": 1573529122468,
     "user": {
      "displayName": "MBA COURSE",
      "photoUrl": "",
      "userId": "16687981285155509429"
     },
     "user_tz": -330
    },
    "id": "puvMMAUbq4RC",
    "outputId": "bb83dde6-4c06-484b-a7ac-194825327e00"
   },
   "outputs": [
    {
     "data": {
      "image/png": "[encoded data removed]",
      "text/plain": [
       "<Figure size 1080x720 with 1 Axes>"
      ]
     },
     "metadata": {
      "tags": []
     },
     "output_type": "display_data"
    }
   ],
   "source": [
    "fig = plt.figure(figsize=(15,10))\n",
    "plt.scatter(y_test,Prediction, alpha =1.0)\n",
    "plt.plot(y_test,Prediction,'r')\n",
    "plt.title('LinearRegression')\n",
    "plt.xlabel('y_test')\n",
    "plt.ylabel('Prediction')\n",
    "plt.show()"
   ]
  },
  {
   "cell_type": "code",
   "execution_count": 0,
   "metadata": {
    "colab": {
     "base_uri": "https://localhost:8080/",
     "height": 33
    },
    "colab_type": "code",
    "executionInfo": {
     "elapsed": 911,
     "status": "ok",
     "timestamp": 1573530607000,
     "user": {
      "displayName": "MBA COURSE",
      "photoUrl": "",
      "userId": "16687981285155509429"
     },
     "user_tz": -330
    },
    "id": "wUwqAPnYuu3c",
    "outputId": "a033e095-082a-44ba-a6c7-95fe3518259c"
   },
   "outputs": [
    {
     "data": {
      "text/plain": [
       "<Figure size 432x288 with 0 Axes>"
      ]
     },
     "metadata": {
      "tags": []
     },
     "output_type": "display_data"
    }
   ],
   "source": [
    "plt.savefig('LR_NO_OL.png')"
   ]
  },
  {
   "cell_type": "code",
   "execution_count": 0,
   "metadata": {
    "colab": {
     "base_uri": "https://localhost:8080/",
     "height": 622
    },
    "colab_type": "code",
    "executionInfo": {
     "elapsed": 4509,
     "status": "ok",
     "timestamp": 1573529123408,
     "user": {
      "displayName": "MBA COURSE",
      "photoUrl": "",
      "userId": "16687981285155509429"
     },
     "user_tz": -330
    },
    "id": "XkoC3yfnq7EW",
    "outputId": "87b2f475-73d8-429d-a7f8-42ce4892cf9c"
   },
   "outputs": [
    {
     "data": {
      "image/png": "[encoded data removed]",
      "text/plain": [
       "<Figure size 1080x720 with 1 Axes>"
      ]
     },
     "metadata": {
      "tags": []
     },
     "output_type": "display_data"
    }
   ],
   "source": [
    "fig = plt.figure(figsize=(15,10))\n",
    "plt.scatter(y_test,Prediction_SVR)\n",
    "plt.plot(y_test,Prediction_SVR,'r')\n",
    "plt.xlabel('y_test')\n",
    "plt.ylabel('Prediction_SVR')\n",
    "plt.title('SVR')\n",
    "plt.show()"
   ]
  },
  {
   "cell_type": "code",
   "execution_count": 0,
   "metadata": {
    "colab": {
     "base_uri": "https://localhost:8080/",
     "height": 33
    },
    "colab_type": "code",
    "executionInfo": {
     "elapsed": 875,
     "status": "ok",
     "timestamp": 1573530644708,
     "user": {
      "displayName": "MBA COURSE",
      "photoUrl": "",
      "userId": "16687981285155509429"
     },
     "user_tz": -330
    },
    "id": "I3ehRLZau83m",
    "outputId": "d57a0790-45e8-4dd1-ccba-19927bc355e5"
   },
   "outputs": [
    {
     "data": {
      "text/plain": [
       "<Figure size 432x288 with 0 Axes>"
      ]
     },
     "metadata": {
      "tags": []
     },
     "output_type": "display_data"
    }
   ],
   "source": [
    "plt.savefig('SVR.png')"
   ]
  },
  {
   "cell_type": "markdown",
   "metadata": {
    "colab_type": "text",
    "id": "ImhtE37mzsn4"
   },
   "source": [
    "###  As it is clear from the plot's, Linear Regression plot is a smooth, straight line plot and smooth fitting, their is hardly any variance.\n",
    "\n",
    "### On the otherhand, SVR is bit scattered which has high variance of data which is clearly seen from the plot.\n",
    "\n",
    "### Linear Regression is a high bias algorithm which is showing very low variance. And on the otherhand, SVR is the low bias algorithm with respect to Linear Regression which is showing high variance.\n",
    "\n",
    "##With this we conclude that : **High Bias Algorithm are having low variances.**\n",
    "\n",
    "\n",
    "\n",
    "\n",
    "\n",
    "\n",
    "\n"
   ]
  },
  {
   "cell_type": "markdown",
   "metadata": {
    "colab_type": "text",
    "id": "-wwb_63tA3QY"
   },
   "source": []
  }
 ],
 "metadata": {
  "colab": {
   "collapsed_sections": [],
   "name": "HB has LV and  LR_vs_SVR.ipynb",
   "provenance": [
    {
     "file_id": "1Nv1UAj2SUQkpRKWngZ8ICivuOvj635u5",
     "timestamp": 1573501962897
    }
   ]
  },
  "kernelspec": {
   "display_name": "Python 3",
   "language": "python",
   "name": "python3"
  },
  "language_info": {
   "codemirror_mode": {
    "name": "ipython",
    "version": 3
   },
   "file_extension": ".py",
   "mimetype": "text/x-python",
   "name": "python",
   "nbconvert_exporter": "python",
   "pygments_lexer": "ipython3",
   "version": "3.7.3"
  }
 },
 "nbformat": 4,
 "nbformat_minor": 1
}
