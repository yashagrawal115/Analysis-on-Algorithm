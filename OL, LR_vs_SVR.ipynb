{
 "cells": [
  {
   "cell_type": "markdown",
   "metadata": {
    "colab_type": "text",
    "id": "HhL6r7lC64fI"
   },
   "source": [
    "\n",
    "\n",
    "\n",
    "#Validation of Statement : \n",
    "##**Which perform better with linear data \"Linear Regression\" or \"LinearSVM\" or \"SVM with (kernal= 'Linear')\"?**\n",
    "\n",
    "---\n",
    "\n"
   ]
  },
  {
   "cell_type": "markdown",
   "metadata": {
    "colab_type": "text",
    "id": "vQyk40L9_xxZ"
   },
   "source": [
    "#Validation of Statement: \n",
    "##**Hight Bias Algorithm will have Low variance or not ?**"
   ]
  },
  {
   "cell_type": "code",
   "execution_count": 0,
   "metadata": {
    "colab": {},
    "colab_type": "code",
    "id": "ZMTyB-wY6kt-"
   },
   "outputs": [],
   "source": [
    "import numpy as np \n",
    "import pandas as pd\n",
    "import matplotlib.pyplot as plt\n",
    "import seaborn as sns\n",
    "from sklearn.datasets import make_regression\n",
    "from sklearn.metrics import r2_score"
   ]
  },
  {
   "cell_type": "code",
   "execution_count": 0,
   "metadata": {
    "colab": {},
    "colab_type": "code",
    "id": "wpKB8Eq-8adq"
   },
   "outputs": [],
   "source": [
    "X, y = make_regression(n_samples = 100, n_features=5, n_informative=4, n_targets=1 ,noise = 0.05, bias = 0.0)"
   ]
  },
  {
   "cell_type": "code",
   "execution_count": 0,
   "metadata": {
    "colab": {
     "base_uri": "https://localhost:8080/",
     "height": 104
    },
    "colab_type": "code",
    "executionInfo": {
     "elapsed": 738,
     "status": "ok",
     "timestamp": 1573793778388,
     "user": {
      "displayName": "MBA COURSE",
      "photoUrl": "",
      "userId": "16687981285155509429"
     },
     "user_tz": -330
    },
    "id": "-yHJLgkwS6Rq",
    "outputId": "9e91d33f-13ca-44dd-c55e-702817e5cc9b"
   },
   "outputs": [
    {
     "name": "stdout",
     "output_type": "stream",
     "text": [
      "[[ 1.17306954  0.19584097  0.08359589  0.15196633 -1.5392615 ]\n",
      " [-0.09258581 -0.05855686  1.42480336 -1.25885282 -0.72073904]\n",
      " [ 0.10115142  0.49388099  0.850936    1.11491562 -1.35062631]\n",
      " [ 1.83993641 -0.73902561  0.2969199  -1.07534683  0.74014533]\n",
      " [ 0.42323493 -1.06949295 -1.58902611  0.61827011  0.07416359]]\n"
     ]
    }
   ],
   "source": [
    "print(X[:5,:])"
   ]
  },
  {
   "cell_type": "code",
   "execution_count": 0,
   "metadata": {
    "colab": {
     "base_uri": "https://localhost:8080/",
     "height": 34
    },
    "colab_type": "code",
    "executionInfo": {
     "elapsed": 740,
     "status": "ok",
     "timestamp": 1573793778939,
     "user": {
      "displayName": "MBA COURSE",
      "photoUrl": "",
      "userId": "16687981285155509429"
     },
     "user_tz": -330
    },
    "id": "ZxSNeOJYS6ur",
    "outputId": "a3b9ac57-818e-493f-fe2c-f2c23c88e52b"
   },
   "outputs": [
    {
     "data": {
      "text/plain": [
       "2"
      ]
     },
     "execution_count": 65,
     "metadata": {
      "tags": []
     },
     "output_type": "execute_result"
    }
   ],
   "source": [
    "X.ndim"
   ]
  },
  {
   "cell_type": "code",
   "execution_count": 0,
   "metadata": {
    "colab": {
     "base_uri": "https://localhost:8080/",
     "height": 34
    },
    "colab_type": "code",
    "executionInfo": {
     "elapsed": 816,
     "status": "ok",
     "timestamp": 1573793779608,
     "user": {
      "displayName": "MBA COURSE",
      "photoUrl": "",
      "userId": "16687981285155509429"
     },
     "user_tz": -330
    },
    "id": "gfOWKYzsRE7d",
    "outputId": "2ee239fc-fdc4-4819-8912-629135a8ca33"
   },
   "outputs": [
    {
     "name": "stdout",
     "output_type": "stream",
     "text": [
      "(100, 5)\n"
     ]
    }
   ],
   "source": [
    "print(X.shape)"
   ]
  },
  {
   "cell_type": "code",
   "execution_count": 0,
   "metadata": {
    "colab": {
     "base_uri": "https://localhost:8080/",
     "height": 104
    },
    "colab_type": "code",
    "executionInfo": {
     "elapsed": 842,
     "status": "ok",
     "timestamp": 1573793780234,
     "user": {
      "displayName": "MBA COURSE",
      "photoUrl": "",
      "userId": "16687981285155509429"
     },
     "user_tz": -330
    },
    "id": "U7ArVXaMTQbs",
    "outputId": "58df5451-255c-48d4-8a65-c2bc8b45d259"
   },
   "outputs": [
    {
     "data": {
      "text/plain": [
       "array([ -43.26971599,  -78.22024224,    5.7559114 ,  103.62856426,\n",
       "         -0.89220515,  -41.06007248, -275.69818648,  146.52814503,\n",
       "       -171.19119579,  -32.502817  , -174.17965754,  -21.43922396,\n",
       "       -113.86066984, -142.95767381,  -94.04522231,  -73.83639494,\n",
       "         57.12335743, -223.66281172, -161.94730104, -154.73523149])"
      ]
     },
     "execution_count": 67,
     "metadata": {
      "tags": []
     },
     "output_type": "execute_result"
    }
   ],
   "source": [
    "y[:20]"
   ]
  },
  {
   "cell_type": "code",
   "execution_count": 0,
   "metadata": {
    "colab": {
     "base_uri": "https://localhost:8080/",
     "height": 34
    },
    "colab_type": "code",
    "executionInfo": {
     "elapsed": 951,
     "status": "ok",
     "timestamp": 1573793781043,
     "user": {
      "displayName": "MBA COURSE",
      "photoUrl": "",
      "userId": "16687981285155509429"
     },
     "user_tz": -330
    },
    "id": "h6xFGhR9RLU2",
    "outputId": "c125b5b6-1f22-451e-980d-22a55e92db9e"
   },
   "outputs": [
    {
     "name": "stdout",
     "output_type": "stream",
     "text": [
      "(100,)\n"
     ]
    }
   ],
   "source": [
    "print(y.shape)"
   ]
  },
  {
   "cell_type": "code",
   "execution_count": 0,
   "metadata": {
    "colab": {},
    "colab_type": "code",
    "id": "FW5E4RchT6Pc"
   },
   "outputs": [],
   "source": [
    "Custom_dataset_data = pd.DataFrame(X, columns=('feature_1','feature_2','feature_3','feature_4','feature_5'))\n",
    "Custom_dataset_target = pd.DataFrame(y)"
   ]
  },
  {
   "cell_type": "code",
   "execution_count": 0,
   "metadata": {
    "colab": {
     "base_uri": "https://localhost:8080/",
     "height": 202
    },
    "colab_type": "code",
    "executionInfo": {
     "elapsed": 1032,
     "status": "ok",
     "timestamp": 1573793782882,
     "user": {
      "displayName": "MBA COURSE",
      "photoUrl": "",
      "userId": "16687981285155509429"
     },
     "user_tz": -330
    },
    "id": "aQMWcwrcU7zr",
    "outputId": "5b6ce98f-282e-43d1-b0b1-7541bfd33e6f"
   },
   "outputs": [
    {
     "data": {
      "text/html": [
       "<div>\n",
       "<style scoped>\n",
       "    .dataframe tbody tr th:only-of-type {\n",
       "        vertical-align: middle;\n",
       "    }\n",
       "\n",
       "    .dataframe tbody tr th {\n",
       "        vertical-align: top;\n",
       "    }\n",
       "\n",
       "    .dataframe thead th {\n",
       "        text-align: right;\n",
       "    }\n",
       "</style>\n",
       "<table border=\"1\" class=\"dataframe\">\n",
       "  <thead>\n",
       "    <tr style=\"text-align: right;\">\n",
       "      <th></th>\n",
       "      <th>feature_1</th>\n",
       "      <th>feature_2</th>\n",
       "      <th>feature_3</th>\n",
       "      <th>feature_4</th>\n",
       "      <th>feature_5</th>\n",
       "    </tr>\n",
       "  </thead>\n",
       "  <tbody>\n",
       "    <tr>\n",
       "      <th>0</th>\n",
       "      <td>1.173070</td>\n",
       "      <td>0.195841</td>\n",
       "      <td>0.083596</td>\n",
       "      <td>0.151966</td>\n",
       "      <td>-1.539261</td>\n",
       "    </tr>\n",
       "    <tr>\n",
       "      <th>1</th>\n",
       "      <td>-0.092586</td>\n",
       "      <td>-0.058557</td>\n",
       "      <td>1.424803</td>\n",
       "      <td>-1.258853</td>\n",
       "      <td>-0.720739</td>\n",
       "    </tr>\n",
       "    <tr>\n",
       "      <th>2</th>\n",
       "      <td>0.101151</td>\n",
       "      <td>0.493881</td>\n",
       "      <td>0.850936</td>\n",
       "      <td>1.114916</td>\n",
       "      <td>-1.350626</td>\n",
       "    </tr>\n",
       "    <tr>\n",
       "      <th>3</th>\n",
       "      <td>1.839936</td>\n",
       "      <td>-0.739026</td>\n",
       "      <td>0.296920</td>\n",
       "      <td>-1.075347</td>\n",
       "      <td>0.740145</td>\n",
       "    </tr>\n",
       "    <tr>\n",
       "      <th>4</th>\n",
       "      <td>0.423235</td>\n",
       "      <td>-1.069493</td>\n",
       "      <td>-1.589026</td>\n",
       "      <td>0.618270</td>\n",
       "      <td>0.074164</td>\n",
       "    </tr>\n",
       "  </tbody>\n",
       "</table>\n",
       "</div>"
      ],
      "text/plain": [
       "   feature_1  feature_2  feature_3  feature_4  feature_5\n",
       "0   1.173070   0.195841   0.083596   0.151966  -1.539261\n",
       "1  -0.092586  -0.058557   1.424803  -1.258853  -0.720739\n",
       "2   0.101151   0.493881   0.850936   1.114916  -1.350626\n",
       "3   1.839936  -0.739026   0.296920  -1.075347   0.740145\n",
       "4   0.423235  -1.069493  -1.589026   0.618270   0.074164"
      ]
     },
     "execution_count": 70,
     "metadata": {
      "tags": []
     },
     "output_type": "execute_result"
    }
   ],
   "source": [
    "Custom_dataset_data.head()"
   ]
  },
  {
   "cell_type": "code",
   "execution_count": 0,
   "metadata": {
    "colab": {
     "base_uri": "https://localhost:8080/",
     "height": 202
    },
    "colab_type": "code",
    "executionInfo": {
     "elapsed": 962,
     "status": "ok",
     "timestamp": 1573793783751,
     "user": {
      "displayName": "MBA COURSE",
      "photoUrl": "",
      "userId": "16687981285155509429"
     },
     "user_tz": -330
    },
    "id": "Bi5k3FfgU7yd",
    "outputId": "0d10f39d-3f7c-46cc-ccd7-f02c4d610a3f"
   },
   "outputs": [
    {
     "data": {
      "text/html": [
       "<div>\n",
       "<style scoped>\n",
       "    .dataframe tbody tr th:only-of-type {\n",
       "        vertical-align: middle;\n",
       "    }\n",
       "\n",
       "    .dataframe tbody tr th {\n",
       "        vertical-align: top;\n",
       "    }\n",
       "\n",
       "    .dataframe thead th {\n",
       "        text-align: right;\n",
       "    }\n",
       "</style>\n",
       "<table border=\"1\" class=\"dataframe\">\n",
       "  <thead>\n",
       "    <tr style=\"text-align: right;\">\n",
       "      <th></th>\n",
       "      <th>0</th>\n",
       "    </tr>\n",
       "  </thead>\n",
       "  <tbody>\n",
       "    <tr>\n",
       "      <th>0</th>\n",
       "      <td>-43.269716</td>\n",
       "    </tr>\n",
       "    <tr>\n",
       "      <th>1</th>\n",
       "      <td>-78.220242</td>\n",
       "    </tr>\n",
       "    <tr>\n",
       "      <th>2</th>\n",
       "      <td>5.755911</td>\n",
       "    </tr>\n",
       "    <tr>\n",
       "      <th>3</th>\n",
       "      <td>103.628564</td>\n",
       "    </tr>\n",
       "    <tr>\n",
       "      <th>4</th>\n",
       "      <td>-0.892205</td>\n",
       "    </tr>\n",
       "  </tbody>\n",
       "</table>\n",
       "</div>"
      ],
      "text/plain": [
       "            0\n",
       "0  -43.269716\n",
       "1  -78.220242\n",
       "2    5.755911\n",
       "3  103.628564\n",
       "4   -0.892205"
      ]
     },
     "execution_count": 71,
     "metadata": {
      "tags": []
     },
     "output_type": "execute_result"
    }
   ],
   "source": [
    "Custom_dataset_target.head()"
   ]
  },
  {
   "cell_type": "code",
   "execution_count": 0,
   "metadata": {
    "colab": {},
    "colab_type": "code",
    "id": "Kpu9JdbZU7wz"
   },
   "outputs": [],
   "source": [
    "Custom_dataset_target = Custom_dataset_target.rename(columns={0 : 'Target'})"
   ]
  },
  {
   "cell_type": "code",
   "execution_count": 0,
   "metadata": {
    "colab": {
     "base_uri": "https://localhost:8080/",
     "height": 202
    },
    "colab_type": "code",
    "executionInfo": {
     "elapsed": 874,
     "status": "ok",
     "timestamp": 1573793785255,
     "user": {
      "displayName": "MBA COURSE",
      "photoUrl": "",
      "userId": "16687981285155509429"
     },
     "user_tz": -330
    },
    "id": "3F6XUXA6ZeeM",
    "outputId": "ee2d338e-5afd-4c53-9689-e4b39b590922"
   },
   "outputs": [
    {
     "data": {
      "text/html": [
       "<div>\n",
       "<style scoped>\n",
       "    .dataframe tbody tr th:only-of-type {\n",
       "        vertical-align: middle;\n",
       "    }\n",
       "\n",
       "    .dataframe tbody tr th {\n",
       "        vertical-align: top;\n",
       "    }\n",
       "\n",
       "    .dataframe thead th {\n",
       "        text-align: right;\n",
       "    }\n",
       "</style>\n",
       "<table border=\"1\" class=\"dataframe\">\n",
       "  <thead>\n",
       "    <tr style=\"text-align: right;\">\n",
       "      <th></th>\n",
       "      <th>Target</th>\n",
       "    </tr>\n",
       "  </thead>\n",
       "  <tbody>\n",
       "    <tr>\n",
       "      <th>0</th>\n",
       "      <td>-43.269716</td>\n",
       "    </tr>\n",
       "    <tr>\n",
       "      <th>1</th>\n",
       "      <td>-78.220242</td>\n",
       "    </tr>\n",
       "    <tr>\n",
       "      <th>2</th>\n",
       "      <td>5.755911</td>\n",
       "    </tr>\n",
       "    <tr>\n",
       "      <th>3</th>\n",
       "      <td>103.628564</td>\n",
       "    </tr>\n",
       "    <tr>\n",
       "      <th>4</th>\n",
       "      <td>-0.892205</td>\n",
       "    </tr>\n",
       "  </tbody>\n",
       "</table>\n",
       "</div>"
      ],
      "text/plain": [
       "       Target\n",
       "0  -43.269716\n",
       "1  -78.220242\n",
       "2    5.755911\n",
       "3  103.628564\n",
       "4   -0.892205"
      ]
     },
     "execution_count": 73,
     "metadata": {
      "tags": []
     },
     "output_type": "execute_result"
    }
   ],
   "source": [
    "Custom_dataset_target.head()"
   ]
  },
  {
   "cell_type": "code",
   "execution_count": 0,
   "metadata": {
    "colab": {},
    "colab_type": "code",
    "id": "cMPpqfDUU7tg"
   },
   "outputs": [],
   "source": [
    "Comp_Dataset = pd.concat([Custom_dataset_data,Custom_dataset_target], axis = 1)"
   ]
  },
  {
   "cell_type": "code",
   "execution_count": 0,
   "metadata": {
    "colab": {
     "base_uri": "https://localhost:8080/",
     "height": 202
    },
    "colab_type": "code",
    "executionInfo": {
     "elapsed": 975,
     "status": "ok",
     "timestamp": 1573793786869,
     "user": {
      "displayName": "MBA COURSE",
      "photoUrl": "",
      "userId": "16687981285155509429"
     },
     "user_tz": -330
    },
    "id": "PoXskYDbSpA2",
    "outputId": "a5a70997-d106-44c6-862b-13f93c364398"
   },
   "outputs": [
    {
     "data": {
      "text/html": [
       "<div>\n",
       "<style scoped>\n",
       "    .dataframe tbody tr th:only-of-type {\n",
       "        vertical-align: middle;\n",
       "    }\n",
       "\n",
       "    .dataframe tbody tr th {\n",
       "        vertical-align: top;\n",
       "    }\n",
       "\n",
       "    .dataframe thead th {\n",
       "        text-align: right;\n",
       "    }\n",
       "</style>\n",
       "<table border=\"1\" class=\"dataframe\">\n",
       "  <thead>\n",
       "    <tr style=\"text-align: right;\">\n",
       "      <th></th>\n",
       "      <th>feature_1</th>\n",
       "      <th>feature_2</th>\n",
       "      <th>feature_3</th>\n",
       "      <th>feature_4</th>\n",
       "      <th>feature_5</th>\n",
       "      <th>Target</th>\n",
       "    </tr>\n",
       "  </thead>\n",
       "  <tbody>\n",
       "    <tr>\n",
       "      <th>0</th>\n",
       "      <td>1.173070</td>\n",
       "      <td>0.195841</td>\n",
       "      <td>0.083596</td>\n",
       "      <td>0.151966</td>\n",
       "      <td>-1.539261</td>\n",
       "      <td>-43.269716</td>\n",
       "    </tr>\n",
       "    <tr>\n",
       "      <th>1</th>\n",
       "      <td>-0.092586</td>\n",
       "      <td>-0.058557</td>\n",
       "      <td>1.424803</td>\n",
       "      <td>-1.258853</td>\n",
       "      <td>-0.720739</td>\n",
       "      <td>-78.220242</td>\n",
       "    </tr>\n",
       "    <tr>\n",
       "      <th>2</th>\n",
       "      <td>0.101151</td>\n",
       "      <td>0.493881</td>\n",
       "      <td>0.850936</td>\n",
       "      <td>1.114916</td>\n",
       "      <td>-1.350626</td>\n",
       "      <td>5.755911</td>\n",
       "    </tr>\n",
       "    <tr>\n",
       "      <th>3</th>\n",
       "      <td>1.839936</td>\n",
       "      <td>-0.739026</td>\n",
       "      <td>0.296920</td>\n",
       "      <td>-1.075347</td>\n",
       "      <td>0.740145</td>\n",
       "      <td>103.628564</td>\n",
       "    </tr>\n",
       "    <tr>\n",
       "      <th>4</th>\n",
       "      <td>0.423235</td>\n",
       "      <td>-1.069493</td>\n",
       "      <td>-1.589026</td>\n",
       "      <td>0.618270</td>\n",
       "      <td>0.074164</td>\n",
       "      <td>-0.892205</td>\n",
       "    </tr>\n",
       "  </tbody>\n",
       "</table>\n",
       "</div>"
      ],
      "text/plain": [
       "   feature_1  feature_2  feature_3  feature_4  feature_5      Target\n",
       "0   1.173070   0.195841   0.083596   0.151966  -1.539261  -43.269716\n",
       "1  -0.092586  -0.058557   1.424803  -1.258853  -0.720739  -78.220242\n",
       "2   0.101151   0.493881   0.850936   1.114916  -1.350626    5.755911\n",
       "3   1.839936  -0.739026   0.296920  -1.075347   0.740145  103.628564\n",
       "4   0.423235  -1.069493  -1.589026   0.618270   0.074164   -0.892205"
      ]
     },
     "execution_count": 75,
     "metadata": {
      "tags": []
     },
     "output_type": "execute_result"
    }
   ],
   "source": [
    "Comp_Dataset.head()"
   ]
  },
  {
   "cell_type": "code",
   "execution_count": 0,
   "metadata": {
    "colab": {},
    "colab_type": "code",
    "id": "8CWP5m-WcNNs"
   },
   "outputs": [],
   "source": [
    "from sklearn.model_selection import train_test_split\n",
    "X_train, X_test, y_train, y_test  = train_test_split(Custom_dataset_data,Custom_dataset_target, test_size = 0.3,random_state = 115)\n"
   ]
  },
  {
   "cell_type": "code",
   "execution_count": 0,
   "metadata": {
    "colab": {
     "base_uri": "https://localhost:8080/",
     "height": 52
    },
    "colab_type": "code",
    "executionInfo": {
     "elapsed": 1061,
     "status": "ok",
     "timestamp": 1573793788651,
     "user": {
      "displayName": "MBA COURSE",
      "photoUrl": "",
      "userId": "16687981285155509429"
     },
     "user_tz": -330
    },
    "id": "ZnvGS4uFbc3v",
    "outputId": "be95364a-f3f3-48a6-c5cf-4330eb23744f"
   },
   "outputs": [
    {
     "name": "stdout",
     "output_type": "stream",
     "text": [
      "CPU times: user 3 µs, sys: 1 µs, total: 4 µs\n",
      "Wall time: 7.15 µs\n"
     ]
    }
   ],
   "source": [
    "%time\n",
    "from sklearn.linear_model import LinearRegression\n",
    "LR = LinearRegression()\n",
    "LR.fit(X_train, y_train)\n",
    "Prediction  = LR.predict(X_test)\n",
    "Score = LR.score(X_test,y_test)\n",
    "R_2  = r2_score(y_test,Prediction)\n"
   ]
  },
  {
   "cell_type": "code",
   "execution_count": 0,
   "metadata": {
    "colab": {
     "base_uri": "https://localhost:8080/",
     "height": 34
    },
    "colab_type": "code",
    "executionInfo": {
     "elapsed": 1117,
     "status": "ok",
     "timestamp": 1573793789977,
     "user": {
      "displayName": "MBA COURSE",
      "photoUrl": "",
      "userId": "16687981285155509429"
     },
     "user_tz": -330
    },
    "id": "-K3IUBPablfp",
    "outputId": "a1707e24-b3bf-4b68-ff30-68aeebc17f7e"
   },
   "outputs": [
    {
     "name": "stdout",
     "output_type": "stream",
     "text": [
      "Score : 0.999999 R_2 score : 0.999999\n"
     ]
    }
   ],
   "source": [
    "print('Score : %f R_2 score : %f' %(Score,R_2))"
   ]
  },
  {
   "cell_type": "code",
   "execution_count": 0,
   "metadata": {
    "colab": {
     "base_uri": "https://localhost:8080/",
     "height": 34
    },
    "colab_type": "code",
    "executionInfo": {
     "elapsed": 679,
     "status": "ok",
     "timestamp": 1573793792012,
     "user": {
      "displayName": "MBA COURSE",
      "photoUrl": "",
      "userId": "16687981285155509429"
     },
     "user_tz": -330
    },
    "id": "tNKi_4nWoJoV",
    "outputId": "cdfe9593-09ec-4620-c4fe-074a314357e4"
   },
   "outputs": [
    {
     "name": "stdout",
     "output_type": "stream",
     "text": [
      "0.9999993646451323\n"
     ]
    }
   ],
   "source": [
    "print(Score)"
   ]
  },
  {
   "cell_type": "code",
   "execution_count": 0,
   "metadata": {
    "colab": {
     "base_uri": "https://localhost:8080/",
     "height": 34
    },
    "colab_type": "code",
    "executionInfo": {
     "elapsed": 842,
     "status": "ok",
     "timestamp": 1573793793547,
     "user": {
      "displayName": "MBA COURSE",
      "photoUrl": "",
      "userId": "16687981285155509429"
     },
     "user_tz": -330
    },
    "id": "1ayIebqD2VNF",
    "outputId": "2ff05201-f160-4d99-8aa4-24e3890aaa89"
   },
   "outputs": [
    {
     "name": "stdout",
     "output_type": "stream",
     "text": [
      "0.9999993646451323\n"
     ]
    }
   ],
   "source": [
    "print(R_2)"
   ]
  },
  {
   "cell_type": "code",
   "execution_count": 0,
   "metadata": {
    "colab": {
     "base_uri": "https://localhost:8080/",
     "height": 622
    },
    "colab_type": "code",
    "executionInfo": {
     "elapsed": 1426,
     "status": "ok",
     "timestamp": 1573793795805,
     "user": {
      "displayName": "MBA COURSE",
      "photoUrl": "",
      "userId": "16687981285155509429"
     },
     "user_tz": -330
    },
    "id": "rBRZnXgvajJa",
    "outputId": "4d51961a-827e-40ef-8126-4f69bf87e199"
   },
   "outputs": [
    {
     "data": {
      "image/png": "[encoded data removed]",
      "text/plain": [
       "<Figure size 1080x720 with 1 Axes>"
      ]
     },
     "metadata": {
      "tags": []
     },
     "output_type": "display_data"
    }
   ],
   "source": [
    "fig = plt.figure(figsize=(15,10))\n",
    "plt.scatter(y_test,Prediction, alpha =1.0)\n",
    "plt.plot(y_test,Prediction,'r')\n",
    "plt.title('LinearRegression')\n",
    "plt.xlabel('y_test')\n",
    "plt.ylabel('Prediction')\n",
    "plt.show()"
   ]
  },
  {
   "cell_type": "code",
   "execution_count": 0,
   "metadata": {
    "colab": {
     "base_uri": "https://localhost:8080/",
     "height": 106
    },
    "colab_type": "code",
    "executionInfo": {
     "elapsed": 956,
     "status": "ok",
     "timestamp": 1573793799473,
     "user": {
      "displayName": "MBA COURSE",
      "photoUrl": "",
      "userId": "16687981285155509429"
     },
     "user_tz": -330
    },
    "id": "iZpn7-zXe8X_",
    "outputId": "098ae697-45a5-4908-bbcd-785e7c18522b"
   },
   "outputs": [
    {
     "name": "stdout",
     "output_type": "stream",
     "text": [
      "CPU times: user 2 µs, sys: 0 ns, total: 2 µs\n",
      "Wall time: 5.01 µs\n"
     ]
    },
    {
     "name": "stderr",
     "output_type": "stream",
     "text": [
      "/usr/local/lib/python3.6/dist-packages/sklearn/utils/validation.py:724: DataConversionWarning: A column-vector y was passed when a 1d array was expected. Please change the shape of y to (n_samples, ), for example using ravel().\n",
      "  y = column_or_1d(y, warn=True)\n"
     ]
    }
   ],
   "source": [
    "%time\n",
    "from sklearn.svm import LinearSVR\n",
    "LSVR = LinearSVR()\n",
    "LSVR.fit(X_train,y_train)\n",
    "Prediction_LSVR = LSVR.predict(X_test)\n",
    "Score_LSVR = LSVR.score(X_test,y_test)\n",
    "R_2_LVSR  = r2_score(y_test,Prediction_LSVR)"
   ]
  },
  {
   "cell_type": "code",
   "execution_count": 0,
   "metadata": {
    "colab": {
     "base_uri": "https://localhost:8080/",
     "height": 34
    },
    "colab_type": "code",
    "executionInfo": {
     "elapsed": 892,
     "status": "ok",
     "timestamp": 1573793801627,
     "user": {
      "displayName": "MBA COURSE",
      "photoUrl": "",
      "userId": "16687981285155509429"
     },
     "user_tz": -330
    },
    "id": "xsxPxjALkagP",
    "outputId": "64bd69da-c850-441e-9c90-c0e570f6ff4f"
   },
   "outputs": [
    {
     "name": "stdout",
     "output_type": "stream",
     "text": [
      "Score : 0 R_2 score : 0\n"
     ]
    }
   ],
   "source": [
    "print('Score : %d R_2 score : %d' %(Score_LSVR,R_2_LVSR))"
   ]
  },
  {
   "cell_type": "code",
   "execution_count": 0,
   "metadata": {
    "colab": {
     "base_uri": "https://localhost:8080/",
     "height": 34
    },
    "colab_type": "code",
    "executionInfo": {
     "elapsed": 716,
     "status": "ok",
     "timestamp": 1573793803241,
     "user": {
      "displayName": "MBA COURSE",
      "photoUrl": "",
      "userId": "16687981285155509429"
     },
     "user_tz": -330
    },
    "id": "WJsBk_SniJDD",
    "outputId": "b0ffb006-71c9-45ca-8eb7-e37e356072f2"
   },
   "outputs": [
    {
     "name": "stdout",
     "output_type": "stream",
     "text": [
      "0.6688158819395347\n"
     ]
    }
   ],
   "source": [
    "print(Score_LSVR)"
   ]
  },
  {
   "cell_type": "code",
   "execution_count": 0,
   "metadata": {
    "colab": {
     "base_uri": "https://localhost:8080/",
     "height": 34
    },
    "colab_type": "code",
    "executionInfo": {
     "elapsed": 626,
     "status": "ok",
     "timestamp": 1573793804890,
     "user": {
      "displayName": "MBA COURSE",
      "photoUrl": "",
      "userId": "16687981285155509429"
     },
     "user_tz": -330
    },
    "id": "SAl8jz5H2I2E",
    "outputId": "acc92b0d-97ce-46ca-920d-ab7336633590"
   },
   "outputs": [
    {
     "name": "stdout",
     "output_type": "stream",
     "text": [
      "0.6688158819395347\n"
     ]
    }
   ],
   "source": [
    "print(R_2_LVSR)"
   ]
  },
  {
   "cell_type": "code",
   "execution_count": 0,
   "metadata": {
    "colab": {
     "base_uri": "https://localhost:8080/",
     "height": 622
    },
    "colab_type": "code",
    "executionInfo": {
     "elapsed": 1700,
     "status": "ok",
     "timestamp": 1573793807460,
     "user": {
      "displayName": "MBA COURSE",
      "photoUrl": "",
      "userId": "16687981285155509429"
     },
     "user_tz": -330
    },
    "id": "YbD-kaxSauph",
    "outputId": "02775125-8875-420b-ace5-55d8f4079ca3"
   },
   "outputs": [
    {
     "data": {
      "image/png": "[encoded data removed]",
      "text/plain": [
       "<Figure size 1080x720 with 1 Axes>"
      ]
     },
     "metadata": {
      "tags": []
     },
     "output_type": "display_data"
    }
   ],
   "source": [
    "fig = plt.figure(figsize=(15,10))\n",
    "plt.scatter(y_test,Prediction_LSVR)\n",
    "plt.plot(y_test,Prediction_LSVR,'r')\n",
    "plt.xlabel('y_test')\n",
    "plt.ylabel('Prediction_SVR')\n",
    "plt.title('SVR')\n",
    "plt.show()"
   ]
  },
  {
   "cell_type": "code",
   "execution_count": 0,
   "metadata": {
    "colab": {
     "base_uri": "https://localhost:8080/",
     "height": 106
    },
    "colab_type": "code",
    "executionInfo": {
     "elapsed": 930,
     "status": "ok",
     "timestamp": 1573793815587,
     "user": {
      "displayName": "MBA COURSE",
      "photoUrl": "",
      "userId": "16687981285155509429"
     },
     "user_tz": -330
    },
    "id": "KhYnRwqtnwk_",
    "outputId": "8497109f-30c3-4165-ce2b-9feeffe116f7"
   },
   "outputs": [
    {
     "name": "stdout",
     "output_type": "stream",
     "text": [
      "CPU times: user 2 µs, sys: 0 ns, total: 2 µs\n",
      "Wall time: 5.25 µs\n"
     ]
    },
    {
     "name": "stderr",
     "output_type": "stream",
     "text": [
      "/usr/local/lib/python3.6/dist-packages/sklearn/utils/validation.py:724: DataConversionWarning: A column-vector y was passed when a 1d array was expected. Please change the shape of y to (n_samples, ), for example using ravel().\n",
      "  y = column_or_1d(y, warn=True)\n"
     ]
    }
   ],
   "source": [
    "%time\n",
    "from sklearn.svm import SVR\n",
    "SVReg = SVR(kernel='linear')\n",
    "SVReg.fit(X_train, y_train)\n",
    "Prediction_SVR = SVReg.predict(X_test)\n",
    "Score_SVR = SVReg.score(X_test, y_test) \n",
    "R_2_SVR  = r2_score(y_test,Prediction_SVR)"
   ]
  },
  {
   "cell_type": "code",
   "execution_count": 0,
   "metadata": {
    "colab": {
     "base_uri": "https://localhost:8080/",
     "height": 34
    },
    "colab_type": "code",
    "executionInfo": {
     "elapsed": 756,
     "status": "ok",
     "timestamp": 1573793817610,
     "user": {
      "displayName": "MBA COURSE",
      "photoUrl": "",
      "userId": "16687981285155509429"
     },
     "user_tz": -330
    },
    "id": "6fCaFy_GoZDw",
    "outputId": "9f74303f-aa28-49e6-afdb-753ffb3dadc3"
   },
   "outputs": [
    {
     "name": "stdout",
     "output_type": "stream",
     "text": [
      "0.5759940024539608\n"
     ]
    }
   ],
   "source": [
    "print(Score_SVR)"
   ]
  },
  {
   "cell_type": "code",
   "execution_count": 0,
   "metadata": {
    "colab": {
     "base_uri": "https://localhost:8080/",
     "height": 34
    },
    "colab_type": "code",
    "executionInfo": {
     "elapsed": 889,
     "status": "ok",
     "timestamp": 1573793822989,
     "user": {
      "displayName": "MBA COURSE",
      "photoUrl": "",
      "userId": "16687981285155509429"
     },
     "user_tz": -330
    },
    "id": "F_t5KY0GomTl",
    "outputId": "dedb0ac1-84f6-4478-ac0f-15cc7ec11075"
   },
   "outputs": [
    {
     "name": "stdout",
     "output_type": "stream",
     "text": [
      "0.5759940024539608\n"
     ]
    }
   ],
   "source": [
    "print(R_2_SVR)"
   ]
  },
  {
   "cell_type": "code",
   "execution_count": 0,
   "metadata": {
    "colab": {
     "base_uri": "https://localhost:8080/",
     "height": 622
    },
    "colab_type": "code",
    "executionInfo": {
     "elapsed": 1866,
     "status": "ok",
     "timestamp": 1573793825537,
     "user": {
      "displayName": "MBA COURSE",
      "photoUrl": "",
      "userId": "16687981285155509429"
     },
     "user_tz": -330
    },
    "id": "XPnqpeWmasjj",
    "outputId": "9b75e361-4ee0-45c2-b442-a4d453ad77d2"
   },
   "outputs": [
    {
     "data": {
      "image/png": "[encoded data removed]",
      "text/plain": [
       "<Figure size 1080x720 with 1 Axes>"
      ]
     },
     "metadata": {
      "tags": []
     },
     "output_type": "display_data"
    }
   ],
   "source": [
    "fig = plt.figure(figsize=(15,10))\n",
    "plt.scatter(y_test,Prediction_SVR)\n",
    "plt.plot(y_test,Prediction_SVR,'r')\n",
    "plt.xlabel('y_test')\n",
    "plt.ylabel('Prediction_SVR')\n",
    "plt.title('SVR')\n",
    "plt.show()"
   ]
  },
  {
   "cell_type": "markdown",
   "metadata": {
    "colab_type": "text",
    "id": "ml7zMVPQqBsN"
   },
   "source": [
    "### Comparison of the Scores and R2scores for each of the Algorithm \n",
    "\n",
    "---\n",
    "\n",
    "\n",
    "####        Score, R_2 - for Linear Regression:  \n",
    "####        Score = 0.9999995870779432\n",
    "####        R_2 = 0.9999995870779433\n",
    "\n",
    "---\n",
    "\n",
    "\n",
    "####        Score_SVR, R_2_SVR -  SVR with linear kernal  \n",
    "####        Score = 0.8951939696534374\n",
    "####        R_2 = 0.9999995870779433     \n",
    "\n",
    "---\n",
    "\n",
    "\n",
    "####        Score_LSVR, R_2_LSVR - for LinearSVR\n",
    "####        Score = 0.8941065450154971\n",
    "####        R_2 = 0.9999995870779433 \n",
    "\n",
    "\n",
    "\n",
    "---\n",
    "\n",
    "\n",
    "\n",
    "---\n",
    "\n"
   ]
  },
  {
   "cell_type": "markdown",
   "metadata": {
    "colab_type": "text",
    "id": "R7NGFrax1y8Q"
   },
   "source": [
    "# **Final Outcome:**\n",
    "## From this we can conclude that, **Linear Regression** perform better than LinearSVR and SVR with Linear kernal on linear data based on there performances score that we got."
   ]
  },
  {
   "cell_type": "code",
   "execution_count": 0,
   "metadata": {
    "colab": {
     "base_uri": "https://localhost:8080/",
     "height": 622
    },
    "colab_type": "code",
    "executionInfo": {
     "elapsed": 3298,
     "status": "ok",
     "timestamp": 1573791448369,
     "user": {
      "displayName": "MBA COURSE",
      "photoUrl": "",
      "userId": "16687981285155509429"
     },
     "user_tz": -330
    },
    "id": "XkoC3yfnq7EW",
    "outputId": "19a2eb99-5583-432f-8da6-9a362e2d94c0"
   },
   "outputs": [
    {
     "data": {
      "image/png": "[encoded data removed]",
      "text/plain": [
       "<Figure size 1080x720 with 1 Axes>"
      ]
     },
     "metadata": {
      "tags": []
     },
     "output_type": "display_data"
    }
   ],
   "source": [
    "fig = plt.figure(figsize=(15,10))\n",
    "plt.scatter(y_test,Prediction_SVR)\n",
    "plt.plot(y_test,Prediction_SVR,'r')\n",
    "plt.xlabel('y_test')\n",
    "plt.ylabel('Prediction_SVR')\n",
    "plt.title('SVR')\n",
    "plt.show()"
   ]
  },
  {
   "cell_type": "markdown",
   "metadata": {
    "colab_type": "text",
    "id": "ImhtE37mzsn4"
   },
   "source": [
    "###  As it is clear from the plot's, Linear Regression plot is a smooth, straight line plot and smooth fitting, their is hardly any variance.\n",
    "\n",
    "### On the otherhand, SVR is bit scattered which has high variance of data which is clearly seen from the plot.\n",
    "\n",
    "### Linear Regression is a high bias algorithm which is showing very low variance. And on the otherhand, SVR is the low bias algorithm with respect to Linear Regression which is showing high variance.\n",
    "\n",
    "##With this we conclude that : **High Bias Algorithm are having low variances.**\n",
    "\n",
    "\n",
    "\n",
    "\n",
    "\n",
    "\n",
    "\n"
   ]
  }
 ],
 "metadata": {
  "colab": {
   "collapsed_sections": [],
   "name": "with 5% OL, LR_vs_SVR.ipynb",
   "provenance": [
    {
     "file_id": "1Nv1UAj2SUQkpRKWngZ8ICivuOvj635u5",
     "timestamp": 1573501962897
    }
   ]
  },
  "kernelspec": {
   "display_name": "Python 3",
   "language": "python",
   "name": "python3"
  },
  "language_info": {
   "codemirror_mode": {
    "name": "ipython",
    "version": 3
   },
   "file_extension": ".py",
   "mimetype": "text/x-python",
   "name": "python",
   "nbconvert_exporter": "python",
   "pygments_lexer": "ipython3",
   "version": "3.7.3"
  }
 },
 "nbformat": 4,
 "nbformat_minor": 1
}
